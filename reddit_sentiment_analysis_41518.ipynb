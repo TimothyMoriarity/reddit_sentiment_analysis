{
 "cells": [
  {
   "cell_type": "markdown",
   "metadata": {},
   "source": [
    "### Import Packages"
   ]
  },
  {
   "cell_type": "code",
   "execution_count": 73,
   "metadata": {},
   "outputs": [],
   "source": [
    "import pandas as pd\n",
    "import numpy as np\n",
    "import json\n",
    "import praw\n",
    "import spacy\n",
    "import matplotlib.pyplot as plt\n",
    "%matplotlib inline\n",
    "\n",
    "from sklearn.feature_extraction.text import CountVectorizer, HashingVectorizer, TfidfVectorizer\n",
    "from sklearn.decomposition import LatentDirichletAllocation, TruncatedSVD\n",
    "from sklearn.model_selection import train_test_split\n",
    "from sklearn.ensemble import RandomForestClassifier\n",
    "from sklearn.metrics import confusion_matrix, classification_report\n",
    "\n",
    "from nltk.corpus import stopwords\n",
    "from nltk.stem import PorterStemmer\n",
    "from textblob import TextBlob"
   ]
  },
  {
   "cell_type": "markdown",
   "metadata": {},
   "source": [
    "#### Access Reddit API using praw"
   ]
  },
  {
   "cell_type": "code",
   "execution_count": 2,
   "metadata": {},
   "outputs": [],
   "source": [
    "password = 'XXXXXXXX' #### enter reddit password"
   ]
  },
  {
   "cell_type": "markdown",
   "metadata": {},
   "source": []
  },
  {
   "cell_type": "code",
   "execution_count": null,
   "metadata": {},
   "outputs": [],
   "source": []
  },
  {
   "cell_type": "code",
   "execution_count": 3,
   "metadata": {
    "scrolled": true
   },
   "outputs": [
    {
     "name": "stdout",
     "output_type": "stream",
     "text": [
      "Version 5.3.0 of praw is outdated. Version 5.4.0 was released Wednesday March 28, 2018.\n"
     ]
    }
   ],
   "source": [
    "reddit = praw.Reddit(client_id = 'xxxxx',\n",
    "                    client_secret = 'xxxxxx',\n",
    "                    username = 'xxxxx',\n",
    "                    password = password,\n",
    "                    user_agent = 'reddit_sentiment_analysis')"
   ]
  },
  {
   "cell_type": "markdown",
   "metadata": {},
   "source": [
    "#### Test access"
   ]
  },
  {
   "cell_type": "code",
   "execution_count": 91,
   "metadata": {
    "scrolled": true
   },
   "outputs": [
    {
     "name": "stdout",
     "output_type": "stream",
     "text": [
      "pollluxs\n"
     ]
    }
   ],
   "source": [
    "print(reddit.user.me())"
   ]
  },
  {
   "cell_type": "code",
   "execution_count": 5,
   "metadata": {},
   "outputs": [],
   "source": [
    "subreddit = reddit.subreddit('BBQ') ####enter the name of the subreddit, this example is BBQ"
   ]
  },
  {
   "cell_type": "markdown",
   "metadata": {},
   "source": [
    "Building a list of dictionaries for the submissions being pulled from the smallbusiness subreddit\n",
    "\n",
    "- this was done for each of the 5 sorting options in the subreddit\n",
    "    - hot\n",
    "    - new\n",
    "    - rising\n",
    "    - controversial\n",
    "    - top\n",
    "    \n",
    "The lists are then transformed into dataframes using the json and pandas packages."
   ]
  },
  {
   "cell_type": "markdown",
   "metadata": {},
   "source": [
    "### Hot"
   ]
  },
  {
   "cell_type": "code",
   "execution_count": 6,
   "metadata": {},
   "outputs": [],
   "source": [
    "list_of_items_hot = []\n",
    "fields = ('id', 'title', 'score', 'url', 'created','num_comments', 'ups', 'downs', 'selftext')\n",
    "\n",
    "for submission in subreddit.hot(limit=100): ##### to adjust number of submissions being pulled\n",
    "    to_dict = vars(submission)\n",
    "    sub_dict = {field:to_dict[field] for field in fields}\n",
    "    sub_dict['author'] = str(submission.author)\n",
    "    submission.comments.replace_more(limit=None)\n",
    "    comments = []\n",
    "    for comment in submission.comments.list():\n",
    "        comments.append(comment.body)\n",
    "    sub_dict['comments'] = comments\n",
    "    list_of_items_hot.append(sub_dict)\n",
    "    \n",
    "j_string = json.dumps(list_of_items_hot)\n",
    "data_hot = json.loads(j_string)\n",
    "df_hot = pd.DataFrame.from_dict(data_hot)"
   ]
  },
  {
   "cell_type": "markdown",
   "metadata": {},
   "source": [
    "#### Descriptive stats for this set of submissions"
   ]
  },
  {
   "cell_type": "code",
   "execution_count": 23,
   "metadata": {
    "scrolled": true
   },
   "outputs": [
    {
     "data": {
      "text/html": [
       "<div>\n",
       "<style scoped>\n",
       "    .dataframe tbody tr th:only-of-type {\n",
       "        vertical-align: middle;\n",
       "    }\n",
       "\n",
       "    .dataframe tbody tr th {\n",
       "        vertical-align: top;\n",
       "    }\n",
       "\n",
       "    .dataframe thead th {\n",
       "        text-align: right;\n",
       "    }\n",
       "</style>\n",
       "<table border=\"1\" class=\"dataframe\">\n",
       "  <thead>\n",
       "    <tr style=\"text-align: right;\">\n",
       "      <th></th>\n",
       "      <th>created</th>\n",
       "      <th>downs</th>\n",
       "      <th>num_comments</th>\n",
       "      <th>score</th>\n",
       "      <th>ups</th>\n",
       "      <th>high_comments</th>\n",
       "    </tr>\n",
       "  </thead>\n",
       "  <tbody>\n",
       "    <tr>\n",
       "      <th>count</th>\n",
       "      <td>1.000000e+02</td>\n",
       "      <td>100.0</td>\n",
       "      <td>100.000000</td>\n",
       "      <td>100.000000</td>\n",
       "      <td>100.000000</td>\n",
       "      <td>100.0</td>\n",
       "    </tr>\n",
       "    <tr>\n",
       "      <th>mean</th>\n",
       "      <td>1.523364e+09</td>\n",
       "      <td>0.0</td>\n",
       "      <td>10.700000</td>\n",
       "      <td>37.630000</td>\n",
       "      <td>37.630000</td>\n",
       "      <td>15.0</td>\n",
       "    </tr>\n",
       "    <tr>\n",
       "      <th>std</th>\n",
       "      <td>1.602405e+05</td>\n",
       "      <td>0.0</td>\n",
       "      <td>20.850841</td>\n",
       "      <td>76.820485</td>\n",
       "      <td>76.820485</td>\n",
       "      <td>0.0</td>\n",
       "    </tr>\n",
       "    <tr>\n",
       "      <th>min</th>\n",
       "      <td>1.523065e+09</td>\n",
       "      <td>0.0</td>\n",
       "      <td>0.000000</td>\n",
       "      <td>0.000000</td>\n",
       "      <td>0.000000</td>\n",
       "      <td>15.0</td>\n",
       "    </tr>\n",
       "    <tr>\n",
       "      <th>25%</th>\n",
       "      <td>1.523245e+09</td>\n",
       "      <td>0.0</td>\n",
       "      <td>2.000000</td>\n",
       "      <td>2.000000</td>\n",
       "      <td>2.000000</td>\n",
       "      <td>15.0</td>\n",
       "    </tr>\n",
       "    <tr>\n",
       "      <th>50%</th>\n",
       "      <td>1.523344e+09</td>\n",
       "      <td>0.0</td>\n",
       "      <td>5.500000</td>\n",
       "      <td>6.000000</td>\n",
       "      <td>6.000000</td>\n",
       "      <td>15.0</td>\n",
       "    </tr>\n",
       "    <tr>\n",
       "      <th>75%</th>\n",
       "      <td>1.523501e+09</td>\n",
       "      <td>0.0</td>\n",
       "      <td>12.000000</td>\n",
       "      <td>22.750000</td>\n",
       "      <td>22.750000</td>\n",
       "      <td>15.0</td>\n",
       "    </tr>\n",
       "    <tr>\n",
       "      <th>max</th>\n",
       "      <td>1.523656e+09</td>\n",
       "      <td>0.0</td>\n",
       "      <td>187.000000</td>\n",
       "      <td>391.000000</td>\n",
       "      <td>391.000000</td>\n",
       "      <td>15.0</td>\n",
       "    </tr>\n",
       "  </tbody>\n",
       "</table>\n",
       "</div>"
      ],
      "text/plain": [
       "            created  downs  num_comments       score         ups  \\\n",
       "count  1.000000e+02  100.0    100.000000  100.000000  100.000000   \n",
       "mean   1.523364e+09    0.0     10.700000   37.630000   37.630000   \n",
       "std    1.602405e+05    0.0     20.850841   76.820485   76.820485   \n",
       "min    1.523065e+09    0.0      0.000000    0.000000    0.000000   \n",
       "25%    1.523245e+09    0.0      2.000000    2.000000    2.000000   \n",
       "50%    1.523344e+09    0.0      5.500000    6.000000    6.000000   \n",
       "75%    1.523501e+09    0.0     12.000000   22.750000   22.750000   \n",
       "max    1.523656e+09    0.0    187.000000  391.000000  391.000000   \n",
       "\n",
       "       high_comments  \n",
       "count          100.0  \n",
       "mean            15.0  \n",
       "std              0.0  \n",
       "min             15.0  \n",
       "25%             15.0  \n",
       "50%             15.0  \n",
       "75%             15.0  \n",
       "max             15.0  "
      ]
     },
     "execution_count": 23,
     "metadata": {},
     "output_type": "execute_result"
    }
   ],
   "source": [
    "df_hot.describe()"
   ]
  },
  {
   "cell_type": "markdown",
   "metadata": {},
   "source": [
    "#### Functions"
   ]
  },
  {
   "cell_type": "markdown",
   "metadata": {},
   "source": [
    "Functions based on a quantile setting for High and Low number of comments and popularity"
   ]
  },
  {
   "cell_type": "code",
   "execution_count": 40,
   "metadata": {},
   "outputs": [],
   "source": [
    "def is_high_comments(num_comments):\n",
    "    if num_comments >=df_hot.num_comments.quantile(q=.75):\n",
    "        return 1\n",
    "    else:\n",
    "        return 0"
   ]
  },
  {
   "cell_type": "code",
   "execution_count": 41,
   "metadata": {},
   "outputs": [],
   "source": [
    "def is_low_comments(num_comments):\n",
    "    if num_comments <= df_hot.num_comments.quantile(q=.25):\n",
    "        return 1\n",
    "    else:\n",
    "        return 0"
   ]
  },
  {
   "cell_type": "code",
   "execution_count": 71,
   "metadata": {},
   "outputs": [],
   "source": [
    "def is_high_popularity(up_votes):\n",
    "    if up_votes >=df_hot.ups.quantile(q=.75):\n",
    "        return 1\n",
    "    else:\n",
    "        return 0"
   ]
  },
  {
   "cell_type": "code",
   "execution_count": 72,
   "metadata": {},
   "outputs": [],
   "source": [
    "def is_low_popularity(up_votes):\n",
    "    if up_votes >=df_hot.ups.quantile(q=.25):\n",
    "        return 1\n",
    "    else:\n",
    "        return 0"
   ]
  },
  {
   "cell_type": "code",
   "execution_count": 84,
   "metadata": {},
   "outputs": [],
   "source": [
    "def polarity(text):\n",
    "    text = TextBlob(text)\n",
    "    return text.sentiment.polarity"
   ]
  },
  {
   "cell_type": "code",
   "execution_count": 85,
   "metadata": {},
   "outputs": [],
   "source": [
    "def subjectivity(text):\n",
    "    text = TextBlob(text)\n",
    "    return text.sentiment.subjectivity"
   ]
  },
  {
   "cell_type": "markdown",
   "metadata": {},
   "source": [
    "#### Apply Functions"
   ]
  },
  {
   "cell_type": "code",
   "execution_count": 89,
   "metadata": {},
   "outputs": [],
   "source": [
    "df_hot['high_comments'] = df_hot.num_comments.apply(is_high_comments)\n",
    "df_hot['low_comments'] = df_hot.num_comments.apply(is_low_comments)\n",
    "df_hot['high_popularity'] = df_hot.ups.apply(is_high_popularity)\n",
    "df_hot['low_popularity'] = df_hot.ups.apply(is_low_popularity)\n",
    "df_hot['title_polarity'] = df_hot.title.apply(polarity)\n",
    "df_hot['title_subjectivity'] = df_hot.title.apply(subjectivity)"
   ]
  },
  {
   "cell_type": "code",
   "execution_count": 92,
   "metadata": {},
   "outputs": [
    {
     "data": {
      "text/plain": [
       "count    100.000000\n",
       "mean       0.070084\n",
       "std        0.300129\n",
       "min       -0.600000\n",
       "25%        0.000000\n",
       "50%        0.000000\n",
       "75%        0.139773\n",
       "max        1.000000\n",
       "Name: title_polarity, dtype: float64"
      ]
     },
     "execution_count": 92,
     "metadata": {},
     "output_type": "execute_result"
    }
   ],
   "source": [
    "df_hot.title_polarity.describe()"
   ]
  },
  {
   "cell_type": "code",
   "execution_count": null,
   "metadata": {},
   "outputs": [],
   "source": []
  },
  {
   "cell_type": "code",
   "execution_count": 46,
   "metadata": {},
   "outputs": [
    {
     "data": {
      "text/plain": [
       "0     0\n",
       "1     1\n",
       "2     0\n",
       "3     1\n",
       "4     0\n",
       "5     0\n",
       "6     0\n",
       "7     0\n",
       "8     0\n",
       "9     1\n",
       "10    0\n",
       "11    0\n",
       "12    0\n",
       "13    0\n",
       "14    0\n",
       "Name: high_comments, dtype: int64"
      ]
     },
     "execution_count": 46,
     "metadata": {},
     "output_type": "execute_result"
    }
   ],
   "source": [
    "df_hot.high_comments.head(15)"
   ]
  },
  {
   "cell_type": "code",
   "execution_count": 79,
   "metadata": {},
   "outputs": [],
   "source": [
    "stop_words = stopwords.words('english')"
   ]
  },
  {
   "cell_type": "code",
   "execution_count": 82,
   "metadata": {},
   "outputs": [],
   "source": [
    "cv = CountVectorizer(stop_words=stop_words)\n",
    "cv.fit(df_hot['title'])\n",
    "\n",
    "df_count = pd.DataFrame(cv.transform(df_hot['title']).todense(),\n",
    "            columns=cv.get_feature_names())"
   ]
  },
  {
   "cell_type": "code",
   "execution_count": 87,
   "metadata": {},
   "outputs": [
    {
     "data": {
      "text/html": [
       "<div>\n",
       "<style scoped>\n",
       "    .dataframe tbody tr th:only-of-type {\n",
       "        vertical-align: middle;\n",
       "    }\n",
       "\n",
       "    .dataframe tbody tr th {\n",
       "        vertical-align: top;\n",
       "    }\n",
       "\n",
       "    .dataframe thead th {\n",
       "        text-align: right;\n",
       "    }\n",
       "</style>\n",
       "<table border=\"1\" class=\"dataframe\">\n",
       "  <thead>\n",
       "    <tr style=\"text-align: right;\">\n",
       "      <th></th>\n",
       "      <th>1000</th>\n",
       "      <th>12smoke</th>\n",
       "      <th>14</th>\n",
       "      <th>1st</th>\n",
       "      <th>24</th>\n",
       "      <th>240</th>\n",
       "      <th>25</th>\n",
       "      <th>32lb</th>\n",
       "      <th>400</th>\n",
       "      <th>45</th>\n",
       "      <th>...</th>\n",
       "      <th>white</th>\n",
       "      <th>wings</th>\n",
       "      <th>wireless</th>\n",
       "      <th>wood</th>\n",
       "      <th>work</th>\n",
       "      <th>worth</th>\n",
       "      <th>would</th>\n",
       "      <th>wrapped</th>\n",
       "      <th>wrong</th>\n",
       "      <th>wsm</th>\n",
       "    </tr>\n",
       "  </thead>\n",
       "  <tbody>\n",
       "    <tr>\n",
       "      <th>0</th>\n",
       "      <td>0</td>\n",
       "      <td>0</td>\n",
       "      <td>0</td>\n",
       "      <td>0</td>\n",
       "      <td>0</td>\n",
       "      <td>0</td>\n",
       "      <td>0</td>\n",
       "      <td>0</td>\n",
       "      <td>0</td>\n",
       "      <td>0</td>\n",
       "      <td>...</td>\n",
       "      <td>0</td>\n",
       "      <td>0</td>\n",
       "      <td>0</td>\n",
       "      <td>0</td>\n",
       "      <td>0</td>\n",
       "      <td>0</td>\n",
       "      <td>0</td>\n",
       "      <td>0</td>\n",
       "      <td>0</td>\n",
       "      <td>0</td>\n",
       "    </tr>\n",
       "    <tr>\n",
       "      <th>1</th>\n",
       "      <td>0</td>\n",
       "      <td>0</td>\n",
       "      <td>0</td>\n",
       "      <td>0</td>\n",
       "      <td>0</td>\n",
       "      <td>0</td>\n",
       "      <td>0</td>\n",
       "      <td>0</td>\n",
       "      <td>0</td>\n",
       "      <td>0</td>\n",
       "      <td>...</td>\n",
       "      <td>0</td>\n",
       "      <td>0</td>\n",
       "      <td>0</td>\n",
       "      <td>0</td>\n",
       "      <td>0</td>\n",
       "      <td>0</td>\n",
       "      <td>0</td>\n",
       "      <td>0</td>\n",
       "      <td>0</td>\n",
       "      <td>0</td>\n",
       "    </tr>\n",
       "    <tr>\n",
       "      <th>2</th>\n",
       "      <td>0</td>\n",
       "      <td>0</td>\n",
       "      <td>0</td>\n",
       "      <td>0</td>\n",
       "      <td>0</td>\n",
       "      <td>0</td>\n",
       "      <td>0</td>\n",
       "      <td>0</td>\n",
       "      <td>0</td>\n",
       "      <td>0</td>\n",
       "      <td>...</td>\n",
       "      <td>0</td>\n",
       "      <td>0</td>\n",
       "      <td>0</td>\n",
       "      <td>0</td>\n",
       "      <td>0</td>\n",
       "      <td>0</td>\n",
       "      <td>0</td>\n",
       "      <td>0</td>\n",
       "      <td>0</td>\n",
       "      <td>0</td>\n",
       "    </tr>\n",
       "    <tr>\n",
       "      <th>3</th>\n",
       "      <td>0</td>\n",
       "      <td>0</td>\n",
       "      <td>0</td>\n",
       "      <td>0</td>\n",
       "      <td>0</td>\n",
       "      <td>0</td>\n",
       "      <td>0</td>\n",
       "      <td>0</td>\n",
       "      <td>0</td>\n",
       "      <td>0</td>\n",
       "      <td>...</td>\n",
       "      <td>0</td>\n",
       "      <td>0</td>\n",
       "      <td>0</td>\n",
       "      <td>0</td>\n",
       "      <td>0</td>\n",
       "      <td>0</td>\n",
       "      <td>0</td>\n",
       "      <td>0</td>\n",
       "      <td>0</td>\n",
       "      <td>0</td>\n",
       "    </tr>\n",
       "    <tr>\n",
       "      <th>4</th>\n",
       "      <td>0</td>\n",
       "      <td>0</td>\n",
       "      <td>0</td>\n",
       "      <td>0</td>\n",
       "      <td>0</td>\n",
       "      <td>0</td>\n",
       "      <td>0</td>\n",
       "      <td>0</td>\n",
       "      <td>0</td>\n",
       "      <td>0</td>\n",
       "      <td>...</td>\n",
       "      <td>0</td>\n",
       "      <td>0</td>\n",
       "      <td>0</td>\n",
       "      <td>0</td>\n",
       "      <td>0</td>\n",
       "      <td>0</td>\n",
       "      <td>0</td>\n",
       "      <td>0</td>\n",
       "      <td>0</td>\n",
       "      <td>0</td>\n",
       "    </tr>\n",
       "  </tbody>\n",
       "</table>\n",
       "<p>5 rows × 375 columns</p>\n",
       "</div>"
      ],
      "text/plain": [
       "   1000  12smoke  14  1st  24  240  25  32lb  400  45 ...   white  wings  \\\n",
       "0     0        0   0    0   0    0   0     0    0   0 ...       0      0   \n",
       "1     0        0   0    0   0    0   0     0    0   0 ...       0      0   \n",
       "2     0        0   0    0   0    0   0     0    0   0 ...       0      0   \n",
       "3     0        0   0    0   0    0   0     0    0   0 ...       0      0   \n",
       "4     0        0   0    0   0    0   0     0    0   0 ...       0      0   \n",
       "\n",
       "   wireless  wood  work  worth  would  wrapped  wrong  wsm  \n",
       "0         0     0     0      0      0        0      0    0  \n",
       "1         0     0     0      0      0        0      0    0  \n",
       "2         0     0     0      0      0        0      0    0  \n",
       "3         0     0     0      0      0        0      0    0  \n",
       "4         0     0     0      0      0        0      0    0  \n",
       "\n",
       "[5 rows x 375 columns]"
      ]
     },
     "execution_count": 87,
     "metadata": {},
     "output_type": "execute_result"
    }
   ],
   "source": []
  },
  {
   "cell_type": "code",
   "execution_count": 83,
   "metadata": {},
   "outputs": [
    {
     "data": {
      "text/plain": [
       "bbq           25\n",
       "ribs          15\n",
       "smoked        10\n",
       "smoking       10\n",
       "brisket        9\n",
       "first          9\n",
       "pork           8\n",
       "chicken        7\n",
       "time           7\n",
       "mesquite       5\n",
       "beef           5\n",
       "rub            5\n",
       "need           5\n",
       "smoker         5\n",
       "smoke          4\n",
       "short          4\n",
       "cook           4\n",
       "good           4\n",
       "new            4\n",
       "weber          4\n",
       "wood           4\n",
       "free           3\n",
       "meat           3\n",
       "today          3\n",
       "cooks          3\n",
       "tips           3\n",
       "worth          3\n",
       "apple          3\n",
       "tri            3\n",
       "build          3\n",
       "              ..\n",
       "price          1\n",
       "parking        1\n",
       "prime          1\n",
       "primo          1\n",
       "problem        1\n",
       "psa            1\n",
       "pulled         1\n",
       "quick          1\n",
       "quite          1\n",
       "pastrami       1\n",
       "park           1\n",
       "much           1\n",
       "offer          1\n",
       "nachos         1\n",
       "naked          1\n",
       "nashville      1\n",
       "nexgrill       1\n",
       "next           1\n",
       "night          1\n",
       "noob           1\n",
       "offset         1\n",
       "paparika       1\n",
       "opinion        1\n",
       "ought          1\n",
       "outcome        1\n",
       "overcooked     1\n",
       "overland       1\n",
       "packs          1\n",
       "painted        1\n",
       "1000           1\n",
       "Length: 375, dtype: int64"
      ]
     },
     "execution_count": 83,
     "metadata": {},
     "output_type": "execute_result"
    }
   ],
   "source": [
    "df_count.sum().sort_values(ascending=False)"
   ]
  },
  {
   "cell_type": "code",
   "execution_count": null,
   "metadata": {},
   "outputs": [],
   "source": []
  },
  {
   "cell_type": "code",
   "execution_count": null,
   "metadata": {},
   "outputs": [],
   "source": []
  },
  {
   "cell_type": "code",
   "execution_count": null,
   "metadata": {},
   "outputs": [],
   "source": []
  },
  {
   "cell_type": "code",
   "execution_count": null,
   "metadata": {},
   "outputs": [],
   "source": []
  },
  {
   "cell_type": "code",
   "execution_count": null,
   "metadata": {},
   "outputs": [],
   "source": []
  }
 ],
 "metadata": {
  "kernelspec": {
   "display_name": "Python 3",
   "language": "python",
   "name": "python3"
  },
  "language_info": {
   "codemirror_mode": {
    "name": "ipython",
    "version": 3
   },
   "file_extension": ".py",
   "mimetype": "text/x-python",
   "name": "python",
   "nbconvert_exporter": "python",
   "pygments_lexer": "ipython3",
   "version": "3.6.3"
  }
 },
 "nbformat": 4,
 "nbformat_minor": 2
}
